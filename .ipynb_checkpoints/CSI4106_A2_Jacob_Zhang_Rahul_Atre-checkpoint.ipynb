{
 "cells": [
  {
   "cell_type": "markdown",
   "metadata": {},
   "source": [
    "**CSI 4106 Introduction to Artificial Intelligence** <br/>\n",
    "*Assignment 2: Machine Learning*\n",
    "\n",
    "# Identification\n",
    "\n",
    "Name: Jacob Zhang<br/>\n",
    "Student Number: 300231094\n",
    "\n",
    "Name: Rahul Atre<br/>\n",
    "Student Number:\n",
    "\n",
    "# 1. Exploratory Analysis\n",
    "\n",
    "## Data Exploration\n",
    "\n",
    "In this assignment, we will utilize the Diabetes Prediction Dataset, accessible via [Diabetes Prediction Dataset](https://www.kaggle.com/datasets/iammustafatz/diabetes-prediction-dataset/data). To mitigate the complexity associated with Kaggle's login requirement, the dataset has been made available on a public GitHub repository:\n",
    "\n",
    "- [github.com/turcotte/csi4106-f24/tree/main/assignments-data/a2](https://github.com/turcotte/csi4106-f24/tree/main/assignments-data/a2)\n",
    "\n",
    "You can access and read the dataset directly from this GitHub repository in your Jupyter notebook."
   ]
  },
  {
   "cell_type": "code",
   "execution_count": null,
   "metadata": {},
   "outputs": [],
   "source": [
    "# Code cell"
   ]
  },
  {
   "cell_type": "markdown",
   "metadata": {},
   "source": [
    "1. **Load the dataset and provide a summary of its structure**:\n",
    "\n",
    "    - Describe the features (columns), their data types, and the target variable."
   ]
  },
  {
   "cell_type": "code",
   "execution_count": null,
   "metadata": {},
   "outputs": [],
   "source": [
    "# Code cell"
   ]
  },
  {
   "cell_type": "markdown",
   "metadata": {},
   "source": [
    "2. **Feature Distribution Analysis**:\n",
    "\n",
    "    - Examine the distribution of each feature using appropriate visualizations such as histograms and boxplots. Discuss insights gained, including the presence of outliers."
   ]
  },
  {
   "cell_type": "code",
   "execution_count": null,
   "metadata": {},
   "outputs": [],
   "source": [
    "# Code cell"
   ]
  },
  {
   "cell_type": "markdown",
   "metadata": {},
   "source": [
    "3. **Target Variable Distribution**:\n",
    "\n",
    "    - Analyze the distribution of the target variable to identify class imbalances. Use bar plots to visualize the class frequencies."
   ]
  },
  {
   "cell_type": "code",
   "execution_count": null,
   "metadata": {},
   "outputs": [],
   "source": [
    "# Code cell"
   ]
  },
  {
   "cell_type": "markdown",
   "metadata": {},
   "source": [
    "4. **Data Splitting**:\n",
    "\n",
    "    - Split the dataset into training (80%) and test (20%) sets using the holdout method.\n",
    "\n",
    "    - Ensure that this split occurs before any preprocessing to avoid data leakage."
   ]
  },
  {
   "cell_type": "code",
   "execution_count": null,
   "metadata": {},
   "outputs": [],
   "source": [
    "# Code cell"
   ]
  },
  {
   "cell_type": "markdown",
   "metadata": {},
   "source": [
    "## Data Pre-Processing\n",
    "\n",
    "5. **Categorical Variable Encoding**:\n",
    "\n",
    "    - Encode any categorical variables. Justify the chosen method."
   ]
  },
  {
   "cell_type": "code",
   "execution_count": null,
   "metadata": {},
   "outputs": [],
   "source": [
    "# Code cell"
   ]
  },
  {
   "cell_type": "markdown",
   "metadata": {},
   "source": [
    "6. **Normalization/Standardization of Numerical Features**:\n",
    "\n",
    "    - Normalize or standardize numerical features if necessary. Describe the technique used (e.g., Min-Max scaling, StandardScaler) and explain why it is suitable for this dataset.\n",
    "\n",
    "    - Ensure that this technique is applied only to the training data, with the same transformation subsequently applied to the test data without fitting on it."
   ]
  },
  {
   "cell_type": "code",
   "execution_count": null,
   "metadata": {},
   "outputs": [],
   "source": [
    "# Code cell"
   ]
  },
  {
   "cell_type": "markdown",
   "metadata": {},
   "source": [
    "## Model Development & Evaluation\n",
    "\n",
    "7. **Model Development**:\n",
    "\n",
    "    - Implement the machine learning models covered in class: Decision Trees, K-Nearest Neighbors (KNN), and Logistic Regression. Use the default parameters of scikit-learn as a baseline for training each model."
   ]
  },
  {
   "cell_type": "code",
   "execution_count": null,
   "metadata": {},
   "outputs": [],
   "source": [
    "# Code cell"
   ]
  },
  {
   "cell_type": "markdown",
   "metadata": {},
   "source": [
    "8. **Model Evaluation**:\n",
    "\n",
    "    - Use cross-validation to evaluate each model, justifying your choice of the number of folds.\n",
    "\n",
    "    - Assess the models using metrics such as precision, recall, and F1-score."
   ]
  },
  {
   "cell_type": "code",
   "execution_count": null,
   "metadata": {},
   "outputs": [],
   "source": [
    "# Code cell"
   ]
  },
  {
   "cell_type": "markdown",
   "metadata": {},
   "source": [
    "## Hyperparameter Optimization\n",
    "\n",
    "9. **Exploration and Performance Evaluation:**\n",
    "\n",
    "    - Investigate the impact of varying hyperparameter values on the performance of each model.\n",
    "\n",
    "    - Focus on the following relevant hyperparameters for each model:\n",
    "\n",
    "        - [DecisionTreeClassifier](https://scikit-learn.org/dev/modules/generated/sklearn.tree.DecisionTreeClassifier.html): `criterion` and `max_depth`.\n",
    "  \n",
    "        - [LogisticRegression](https://scikit-learn.org/1.5/modules/generated/sklearn.linear_model.LogisticRegression.html): `penalty`, `max_iter`, and `tol`.\n",
    "  \n",
    "        - [KNeighborsClassifier](https://scikit-learn.org/dev/modules/generated/sklearn.neighbors.KNeighborsClassifier.html): `n_neighbors` and `weights`.\n",
    "\n",
    "    - Employ a grid search strategy or utilize scikit-learn's built-in methods to thoroughly evaluate all combinations of hyperparameter values. Cross-validation should be used to assess each combination.\n",
    "\n",
    "    - Quantify the performance of each hyperparameter configuration using precision, recall, and F1-score as metrics.\n",
    "\n",
    "    - Display the results in a tabular or graphical format (e.g., line charts, bar charts) to effectively demonstrate the influence of hyperparameter variations on model performance.\n",
    "\n",
    "    - Specify the default values for each hyperparameter tested.\n",
    "\n",
    "    - Analyze the findings and offer insights into which hyperparameter configurations achieved optimal performance for each model."
   ]
  },
  {
   "cell_type": "code",
   "execution_count": null,
   "metadata": {},
   "outputs": [],
   "source": [
    "# Code cell"
   ]
  },
  {
   "cell_type": "markdown",
   "metadata": {},
   "source": [
    "## Analysis of Results\n",
    "\n",
    "10. **Model Comparison**:\n",
    "\n",
    "    - Compare the results obtained from each model.\n",
    "\n",
    "    - Discuss observed differences in model performance, providing potential explanations. Consider aspects such as model complexity, data imbalance, overfitting, and the impact of parameter tuning on overall results.\n",
    "\n",
    "    - Provide recommendations on which model(s) to choose for this task and justify your choices based on the analysis results.\n",
    "\n",
    "    - Train the recommended model(s) using the optimal parameter values identified from the parameter optimization step. Subsequently, apply the trained model to the test data. Document your observations comprehensively. Specifically, evaluate whether the results derived from cross-validation are consistent with those obtained from the test set."
   ]
  },
  {
   "cell_type": "code",
   "execution_count": null,
   "metadata": {},
   "outputs": [],
   "source": [
    "# Code cell"
   ]
  },
  {
   "cell_type": "markdown",
   "metadata": {},
   "source": [
    "## 2. Documentation of Exploratory Analysis\n",
    "\n",
    "The report should comprehensively document the entire process followed during this assignment. The Jupyter Notebook must include the following:\n",
    "\n",
    "- Your name(s), student number(s), and a report title.\n",
    "- Explain how the tasks have been split between the members. How did you make sure that both students achieve the learning outcomes? \n",
    "- A section for each step of the exploratory analysis, containing the relevant Python code and explanations or results.\n",
    "  - For sections requiring Python code, include the code in a cell.\n",
    "  - For sections requiring explanations or results, include these in a separate cell or in combination with code cells.\n",
    "- Ensure logical separation of code into different cells. For example, the definition of a function should be in one cell and its execution in another. Avoid placing too much code in a single cell to maintain clarity and readability.\n",
    "- The notebook you submit must include the results of the execution, complete with graphics, ensuring that the teaching assistant can grade the notebook without needing to execute the code.\n",
    "\n",
    "# Resources"
   ]
  }
 ],
 "metadata": {
  "kernelspec": {
   "display_name": "Python 3 (ipykernel)",
   "language": "python",
   "name": "python3"
  },
  "language_info": {
   "codemirror_mode": {
    "name": "ipython",
    "version": 3
   },
   "file_extension": ".py",
   "mimetype": "text/x-python",
   "name": "python",
   "nbconvert_exporter": "python",
   "pygments_lexer": "ipython3",
   "version": "3.13.0"
  }
 },
 "nbformat": 4,
 "nbformat_minor": 4
}
